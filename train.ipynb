{
 "cells": [
  {
   "cell_type": "markdown",
   "metadata": {},
   "source": [
    "The idea for this network, is to take into account the fact that the car stays flat on the road. Extended control when driving on two wheels only with the car on its side, does not seem necessary. The image area will be cut in two stripes: \n",
    "\n",
    "* the distant part, which wiggles as the road turns, and is mostly useful to predict the long term average steering order;\n",
    "* the close area, which begins after the hood, and moves in a more geometric fashion is response to car motion;\n",
    "\n",
    "In the close area, the usual machine vision network architectures will be used: 2D convolution layers to extract patterns and features, and dense layers similar to the NVidia network. \n",
    "\n",
    "* Image normalization;\n",
    "* Convolution layer, valid padding, 5x5 kernel, stride 2, 24 layers;\n",
    "* Convolution layer, valid padding, 5x5 kernel, stride 2, 36 layers;\n",
    "* Convolution layer, valid padding, 5x5 kernel, stride 2, 48 layers;\n",
    "* Convolution layer, valid padding, 3x3 kernel, stride 1, 64 layers;\n",
    "* Convolution layer, valid padding, 3x3 kernel, stride 1, 64 layers, at which point the map is 1 pixel high;\n",
    "* Flatten; \n",
    "* Dense layer 100 neurons;\n",
    "* Dense layer 50 neurons;\n",
    "* Dense layer 10 neurons;\n",
    "* Output 1 neuron, which controls steering;\n",
    "\n",
    "The image normalization will separate brightness and color information. The brightness will be computed as in the grayscale function, while color information will consist in a one_hot_encoded color class among the 6 primary colors, red, green, blue, cyan, yellow, magenta, plus gray, and saturation information derived as max(r,g,b)-min(r,g,b). The brightness and saturation data are normalized to [-1;+1]. The image preprocessing will be done in the training, and drive.py will be modified to provide image preprocessing as well.\n",
    "\n",
    "The smaller distant part will be preprocessed in the same way as the close area. However, a motion compensation algorithm will remove the background by substraction from the memorized previous picture. "
   ]
  },
  {
   "cell_type": "code",
   "execution_count": 1,
   "metadata": {},
   "outputs": [
    {
     "name": "stdout",
     "output_type": "stream",
     "text": [
      "Read 5168 entries from driving log\n",
      "['/home/jm/Projets/Udacity/CarND-Behavioral-Cloning-P3/data/IMG/center_2017_08_31_19_22_53_858.jpg', '/home/jm/Projets/Udacity/CarND-Behavioral-Cloning-P3/data/IMG/left_2017_08_31_19_22_53_858.jpg', '/home/jm/Projets/Udacity/CarND-Behavioral-Cloning-P3/data/IMG/right_2017_08_31_19_22_53_858.jpg', '-0.02145923', '1', '0', '30.18984']\n"
     ]
    }
   ],
   "source": [
    "import csv\n",
    "\n",
    "lines = []\n",
    "\n",
    "# Read lines from log file to retrieve path of center, left and right images\n",
    "# Note that the csv file is incorrectly generated in locales which use comma as a decimal point.\n",
    "# The simulator must run in en_US or C locale to get a correct csv file.\n",
    "with open('data/driving_log.csv') as csvfile:\n",
    "    reader = csv.reader(csvfile)\n",
    "    for line in reader:\n",
    "        lines.append(line)\n",
    "\n",
    "print('Read '+str(len(lines)),'entries from driving log')\n",
    "# Visual check that decimal numbers are actually read from the file. If the file is incorrect, only integers\n",
    "# will be shown, and the number of columns will not be 7.\n",
    "print(lines[1000])"
   ]
  },
  {
   "cell_type": "code",
   "execution_count": 14,
   "metadata": {},
   "outputs": [
    {
     "name": "stdout",
     "output_type": "stream",
     "text": [
      "/home/jm/Projets/Udacity/CarND-Behavioral-Cloning-P3/data/IMG/center_2017_08_31_19_21_10_640.jpg 0.0\n",
      "['/home/jm/Projets/Udacity/CarND-Behavioral-Cloning-P3/data/IMG/center_2017_08_31_19_21_10_640.jpg', '/home/jm/Projets/Udacity/CarND-Behavioral-Cloning-P3/data/IMG/center_2017_08_31_19_21_10_716.jpg', 0.0]\n"
     ]
    }
   ],
   "source": [
    "# Augment training data using left and right cams, with steering angle offset\n",
    "# and flipping all images (and reversing the sign of the steering order)\n",
    "# This should give us around 60k images for training.\n",
    "# Note that steering angle correction for a side camera is -2 e x/(V²t²)\n",
    "# where e is the distance between the rear axle and the cameras, x is the lateral offset (x axis) of the camera\n",
    "# (x<0 for left cam, x>0 for right cam), V and t are current speed and time to rejoin trajectory, and they are\n",
    "# tuning parameters. Maximum speed is around 30 mph (13 m/s) and at high speed, 2 seconds to rejoin the ideal\n",
    "# trajectory seems okay. At a slower speed, we can take more time, so operating at constant Vt makes sense.\n",
    "# We shall therefore take Vt=26, e=2.61m, x=-0.806m for the left cam and x=+0.825 for the right cam.\n",
    "# The latter values are extracted from the Unity code of the simulator.\n",
    "def augment_data(lines):\n",
    "    \"\"\"\n",
    "    Takes as input the content of the csv file, and produces two lists: image_paths and steering angles.\n",
    "    \"\"\"\n",
    "    image_paths = []\n",
    "    measurements = []\n",
    "    k = -2*2.61/(26^2)\n",
    "    \n",
    "    for line in lines:\n",
    "        # Only images where speed > 0 are added\n",
    "        speed = float(line[6])\n",
    "        if speed > 0:\n",
    "            image_paths += [line[0], line[1], line[2]] # Centre cam, left cam, right cam\n",
    "            angle = float(line[3])\n",
    "            measurements += [angle, angle-0.806*k, angle+0.825*k]\n",
    "    \n",
    "    return image_paths, measurements\n",
    "\n",
    "samples = []\n",
    "\n",
    "cam_paths, angles = augment_data(lines)\n",
    "\n",
    "# Previous image frame is used to cancel out fixed background using a motion compensation algorithm\n",
    "# Because images have been added three by three, the previous frame for each cam is three indices before in the list\n",
    "# The first three frames are discarded: they are used as prior image for the next one\n",
    "previous_frame = cam_paths[:-3]\n",
    "cam_paths = cam_paths[3:]\n",
    "angles = angles[3:]\n",
    "\n",
    "# Assemble as one list\n",
    "samples = [ [i,j,k] for i,j,k in zip(previous_frame, cam_paths, angles)]\n",
    "# All intermediate variables are cleared\n",
    "del cam_paths, angles, previous_frame\n",
    "print(samples[0])"
   ]
  },
  {
   "cell_type": "code",
   "execution_count": 16,
   "metadata": {},
   "outputs": [],
   "source": [
    "# Randomly select 20% of images to use as validation\n",
    "from sklearn.model_selection import train_test_split\n",
    "\n",
    "samples_train, samples_valid = train_test_split(samples, test_size=0.2)\n"
   ]
  },
  {
   "cell_type": "code",
   "execution_count": 57,
   "metadata": {},
   "outputs": [],
   "source": [
    "import cv2\n",
    "import numpy as np\n",
    "import sklearn\n",
    "from random import shuffle\n",
    "\n",
    "# Define a generic generator\n",
    "def generator(samples, batch_size=64):\n",
    "    batch_size//=2  # All images are flipped...\n",
    "    num_samples = len(samples)\n",
    "    while 1: # Loop forever so the generator never terminates\n",
    "        shuffle(samples)\n",
    "        for offset in range(0, num_samples, batch_size):\n",
    "            batch_samples = samples[offset:offset+batch_size]\n",
    "\n",
    "            prevs  = []\n",
    "            images = []\n",
    "            angles = []\n",
    "            for batch_sample in batch_samples:\n",
    "                #prev  = cv2.imread(batch_sample[0])\n",
    "                # load and trim image to only see section with road\n",
    "                image = cv2.imread(batch_sample[1])[50:130].astype(np.float32)\n",
    "                image = cv2.resize(image,(160,40),interpolation=cv2.INTER_AREA)\n",
    "                angle = float(batch_sample[2])\n",
    "                # append to batch\n",
    "                #prevs.append(prev)\n",
    "                images.append(image)\n",
    "                angles.append(angle)\n",
    "                images.append(cv2.flip(image,1))\n",
    "                angles.append(-angle)\n",
    "\n",
    "            X_train = np.array(images)\n",
    "            y_train = np.array(angles)\n",
    "            yield sklearn.utils.shuffle(X_train, y_train)\n",
    "\n",
    "train_generator = generator(samples_train)\n",
    "validation_generator = generator(samples_valid)\n",
    "\n"
   ]
  },
  {
   "cell_type": "code",
   "execution_count": 62,
   "metadata": {},
   "outputs": [
    {
     "name": "stdout",
     "output_type": "stream",
     "text": [
      "(None, 40, 160, 3)\n",
      "(None, 18, 78, 24)\n",
      "(None, 7, 37, 36)\n",
      "(None, 3, 18, 48)\n",
      "(None, 1, 16, 64)\n",
      "(None, 1024)\n",
      "(None, 100)\n",
      "(None, 50)\n",
      "(None, 10)\n",
      "(None, 1)\n",
      "Keras model ready for training.\n"
     ]
    }
   ],
   "source": [
    "from keras.layers import Dense, Flatten\n",
    "from keras.layers.convolutional import Convolution2D\n",
    "from keras.layers.normalization import BatchNormalization\n",
    "from keras.models import Sequential\n",
    "\n",
    "# Create NVidia-like neural network\n",
    "model = Sequential()\n",
    "\n",
    "model.add(BatchNormalization(mode=1,input_shape=(40,160,3)))\n",
    "print(model.output_shape)\n",
    "model.add(Convolution2D(24, 5, 5, border_mode='valid', subsample=(2,2), activation='relu'))\n",
    "print(model.output_shape)\n",
    "model.add(Convolution2D(36, 5, 5, border_mode='valid', subsample=(2,2), activation='relu'))\n",
    "print(model.output_shape)\n",
    "model.add(Convolution2D(48, 3, 3, border_mode='valid', subsample=(2,2), activation='relu'))\n",
    "print(model.output_shape)\n",
    "model.add(Convolution2D(64, 3, 3, border_mode='valid', activation='relu'))\n",
    "print(model.output_shape)\n",
    "model.add(Flatten())\n",
    "print(model.output_shape)\n",
    "model.add(Dense(100))\n",
    "print(model.output_shape)\n",
    "model.add(Dense(50))\n",
    "print(model.output_shape)\n",
    "model.add(Dense(10))\n",
    "print(model.output_shape)\n",
    "model.add(Dense(1))\n",
    "print(model.output_shape)\n",
    "model.compile(loss='mse', optimizer='adam')\n",
    "\n",
    "print('Keras model ready for training.')"
   ]
  },
  {
   "cell_type": "code",
   "execution_count": 63,
   "metadata": {
    "scrolled": true
   },
   "outputs": [
    {
     "name": "stdout",
     "output_type": "stream",
     "text": [
      "Epoch 1/12\n",
      "24800/24800 [==============================] - 159s - loss: 0.0265 - val_loss: 0.0181\n",
      "Epoch 2/12\n",
      "24800/24800 [==============================] - 167s - loss: 0.0173 - val_loss: 0.0170\n",
      "Epoch 3/12\n",
      "24800/24800 [==============================] - 153s - loss: 0.0150 - val_loss: 0.0152\n",
      "Epoch 4/12\n",
      "24800/24800 [==============================] - 160s - loss: 0.0134 - val_loss: 0.0135\n",
      "Epoch 5/12\n",
      "24800/24800 [==============================] - 169s - loss: 0.0116 - val_loss: 0.0137\n",
      "Epoch 6/12\n",
      "24800/24800 [==============================] - 152s - loss: 0.0106 - val_loss: 0.0124\n",
      "Epoch 7/12\n",
      "24800/24800 [==============================] - 152s - loss: 0.0095 - val_loss: 0.0123\n",
      "Epoch 8/12\n",
      "24800/24800 [==============================] - 153s - loss: 0.0087 - val_loss: 0.0116\n",
      "Epoch 9/12\n",
      "24800/24800 [==============================] - 153s - loss: 0.0079 - val_loss: 0.0119\n",
      "Epoch 10/12\n",
      "24800/24800 [==============================] - 152s - loss: 0.0069 - val_loss: 0.0116\n",
      "Epoch 11/12\n",
      "24800/24800 [==============================] - 152s - loss: 0.0067 - val_loss: 0.0111\n",
      "Epoch 12/12\n",
      "24800/24800 [==============================] - 154s - loss: 0.0058 - val_loss: 0.0113\n",
      "Model saved.\n"
     ]
    },
    {
     "data": {
      "image/png": "[encoded data removed]",
      "text/plain": [
       "<matplotlib.figure.Figure at 0x7ff83ba06828>"
      ]
     },
     "metadata": {},
     "output_type": "display_data"
    }
   ],
   "source": [
    "# Train model and save with weights values\n",
    "# Number of samples is twice array length, because all images are also presented flipped for training.\n",
    "history_object = model.fit_generator(train_generator, samples_per_epoch = 2*len(samples_train), \n",
    "                    validation_data=validation_generator, nb_val_samples = 2*len(samples_valid),\n",
    "                    nb_epoch=12)\n",
    "model.save('model.h5')\n",
    "print('Model saved.')\n",
    "\n",
    "import matplotlib.pyplot as plt\n",
    "### plot the training and validation loss for each epoch\n",
    "plt.plot(history_object.history['loss'])\n",
    "plt.plot(history_object.history['val_loss'])\n",
    "plt.title('model mean squared error loss')\n",
    "plt.ylabel('mean squared error loss')\n",
    "plt.xlabel('epoch')\n",
    "plt.legend(['training set', 'validation set'], loc='upper right')\n",
    "plt.show()\n"
   ]
  },
  {
   "cell_type": "code",
   "execution_count": 59,
   "metadata": {},
   "outputs": [
    {
     "data": {
      "text/plain": [
       "<keras.callbacks.History at 0x7ff84318cac8>"
      ]
     },
     "execution_count": 59,
     "metadata": {},
     "output_type": "execute_result"
    }
   ],
   "source": [
    "model.fit_generator(train_generator, samples_per_epoch = 2*len(samples_train), \n",
    "                    validation_data=validation_generator, nb_val_samples = 2*len(samples_valid),\n",
    "                    nb_epoch=3, initial_epoch=4)"
   ]
  },
  {
   "cell_type": "code",
   "execution_count": null,
   "metadata": {
    "collapsed": true
   },
   "outputs": [],
   "source": []
  }
 ],
 "metadata": {
  "kernelspec": {
   "display_name": "Python 3",
   "language": "python",
   "name": "python3"
  },
  "language_info": {
   "codemirror_mode": {
    "name": "ipython",
    "version": 3
   },
   "file_extension": ".py",
   "mimetype": "text/x-python",
   "name": "python",
   "nbconvert_exporter": "python",
   "pygments_lexer": "ipython3",
   "version": "3.5.2"
  },
  "widgets": {
   "state": {},
   "version": "1.1.2"
  }
 },
 "nbformat": 4,
 "nbformat_minor": 2
}
