{
 "cells": [
  {
   "cell_type": "code",
   "execution_count": 10,
   "metadata": {},
   "outputs": [
    {
     "name": "stdout",
     "output_type": "stream",
     "text": [
      "Read 5168 entries from driving log\n",
      "['/home/jm/Projets/Udacity/CarND-Behavioral-Cloning-P3/data/IMG/center_2017_08_31_19_21_10_640.jpg', '/home/jm/Projets/Udacity/CarND-Behavioral-Cloning-P3/data/IMG/left_2017_08_31_19_21_10_640.jpg', '/home/jm/Projets/Udacity/CarND-Behavioral-Cloning-P3/data/IMG/right_2017_08_31_19_21_10_640.jpg', '0', '0', '0', '1.842696E-06']\n"
     ]
    }
   ],
   "source": [
    "import csv\n",
    "\n",
    "lines = []\n",
    "\n",
    "with open('data/driving_log.csv') as csvfile:\n",
    "    reader = csv.reader(csvfile)\n",
    "    for line in reader:\n",
    "        lines.append(line)\n",
    "\n",
    "print('Read '+str(len(lines)),'entries from driving log')\n",
    "print(lines[0])"
   ]
  },
  {
   "cell_type": "code",
   "execution_count": 14,
   "metadata": {},
   "outputs": [
    {
     "name": "stdout",
     "output_type": "stream",
     "text": [
      "5168 centre cam images loaded.\n"
     ]
    }
   ],
   "source": [
    "import cv2\n",
    "\n",
    "images = []\n",
    "measurements = []\n",
    "\n",
    "# read in images (features) and scan measurements (steering angle as labels)\n",
    "for line in lines:\n",
    "    # Read image\n",
    "    source_path=line[0]  #center camera\n",
    "    filename = source_path.split('/')[-1]\n",
    "    current_path='data/IMG/'+filename\n",
    "    centre_cam = cv2.imread(current_path)\n",
    "    images.append(centre_cam)\n",
    "    # Read measurements\n",
    "    steering_angle = float(line[3])\n",
    "    measurements.append(steering_angle)\n",
    "\n",
    "print(str(len(images))+' centre cam images loaded.')\n",
    "#print(current_path)"
   ]
  },
  {
   "cell_type": "code",
   "execution_count": 15,
   "metadata": {},
   "outputs": [
    {
     "name": "stdout",
     "output_type": "stream",
     "text": [
      "Features shape is (5168, 160, 320, 3)\n",
      "Labels shape is (5168,)\n"
     ]
    }
   ],
   "source": [
    "import numpy as np\n",
    "\n",
    "# Convert to numpy arrays to use with Keras\n",
    "X_train = np.array(images)\n",
    "y_train = np.array(measurements)\n",
    "\n",
    "print('Features shape is '+str(X_train.shape))\n",
    "print('Labels shape is '+str(y_train.shape))\n"
   ]
  },
  {
   "cell_type": "code",
   "execution_count": 25,
   "metadata": {},
   "outputs": [
    {
     "name": "stdout",
     "output_type": "stream",
     "text": [
      "Keras model ready for training.\n"
     ]
    }
   ],
   "source": [
    "from keras.layers import Dense, Flatten\n",
    "from keras.models import Sequential\n",
    "\n",
    "# Create very simple neural network\n",
    "model = Sequential()\n",
    "model.add(Flatten(input_shape=(160,320,3)))\n",
    "model.add(Dense(1,input_shape=(160,320,3)))\n",
    "model.compile(loss='mse', optimizer='adam')\n",
    "\n",
    "print('Keras model ready for training.')"
   ]
  },
  {
   "cell_type": "code",
   "execution_count": 26,
   "metadata": {
    "scrolled": true
   },
   "outputs": [
    {
     "name": "stdout",
     "output_type": "stream",
     "text": [
      "Train on 4134 samples, validate on 1034 samples\n",
      "Epoch 1/7\n",
      "4134/4134 [==============================] - 4s - loss: 8647223.4185 - val_loss: 7953.7876\n",
      "Epoch 2/7\n",
      "4134/4134 [==============================] - 4s - loss: 6601.1925 - val_loss: 3965.1207\n",
      "Epoch 3/7\n",
      "4134/4134 [==============================] - 4s - loss: 4408.7457 - val_loss: 2782.5701\n",
      "Epoch 4/7\n",
      "4134/4134 [==============================] - 4s - loss: 3263.0604 - val_loss: 19170.2880\n",
      "Epoch 5/7\n",
      "4134/4134 [==============================] - 4s - loss: 4370.6582 - val_loss: 8524.3634\n",
      "Epoch 6/7\n",
      "4134/4134 [==============================] - 4s - loss: 3113.3937 - val_loss: 5039.1406\n",
      "Epoch 7/7\n",
      "4134/4134 [==============================] - 4s - loss: 3739.6887 - val_loss: 3809.9095\n"
     ]
    }
   ],
   "source": [
    "# Train model and save with weights values\n",
    "# Overfitting is observed beyond 7 epochs\n",
    "model.fit(X_train, y_train, validation_split=0.2, shuffle=True, nb_epoch=7)\n",
    "model.save('model.h5')"
   ]
  },
  {
   "cell_type": "code",
   "execution_count": null,
   "metadata": {
    "collapsed": true
   },
   "outputs": [],
   "source": []
  }
 ],
 "metadata": {
  "kernelspec": {
   "display_name": "Python 3",
   "language": "python",
   "name": "python3"
  },
  "language_info": {
   "codemirror_mode": {
    "name": "ipython",
    "version": 3
   },
   "file_extension": ".py",
   "mimetype": "text/x-python",
   "name": "python",
   "nbconvert_exporter": "python",
   "pygments_lexer": "ipython3",
   "version": "3.5.2"
  },
  "widgets": {
   "state": {},
   "version": "1.1.2"
  }
 },
 "nbformat": 4,
 "nbformat_minor": 2
}
